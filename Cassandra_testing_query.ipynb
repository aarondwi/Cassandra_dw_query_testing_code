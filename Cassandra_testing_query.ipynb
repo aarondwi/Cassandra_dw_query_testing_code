{
 "cells": [
  {
   "cell_type": "code",
   "execution_count": 1,
   "metadata": {
    "collapsed": true
   },
   "outputs": [],
   "source": [
    "import pyspark_cassandra"
   ]
  },
  {
   "cell_type": "code",
   "execution_count": 2,
   "metadata": {
    "collapsed": false
   },
   "outputs": [],
   "source": [
    "cf_transaksi_standard = sqlContext.read.format('org.apache.spark.sql.cassandra').\\\n",
    "                options(table=\"cf_transaksi_standard\", keyspace=\"skripsi\").load()\n",
    "cf_buku = sqlContext.read.format('org.apache.spark.sql.cassandra').\\\n",
    "                options(table=\"cf_buku\", keyspace=\"skripsi\").load()\n",
    "cf_transaksi_jurusan_kategori = sqlContext.read.format('org.apache.spark.sql.cassandra').\\\n",
    "                options(table=\"cf_transaksi_jurusan_kategori\", keyspace=\"skripsi\").load()\n",
    "mv_transaksi_kondisi_koleksi = sqlContext.read.format('org.apache.spark.sql.cassandra').\\\n",
    "                options(table=\"mv_transaksi_kondisi_koleksi\", keyspace=\"skripsi\").load()\n",
    "cf_usulan = sqlContext.read.format('org.apache.spark.sql.cassandra').\\\n",
    "                options(table=\"cf_usulan\", keyspace=\"skripsi\").load()"
   ]
  },
  {
   "cell_type": "code",
   "execution_count": 3,
   "metadata": {
    "collapsed": false
   },
   "outputs": [
    {
     "name": "stdout",
     "output_type": "stream",
     "text": [
      "+--------+\n",
      "|count(1)|\n",
      "+--------+\n",
      "|  501704|\n",
      "+--------+\n",
      "\n"
     ]
    }
   ],
   "source": [
    "cf_transaksi_standard.registerTempTable(\"cf_transaksi_standard\")\n",
    "sqlContext.sql(\"select count(*) from cf_transaksi_standard\").show()"
   ]
  },
  {
   "cell_type": "code",
   "execution_count": 4,
   "metadata": {
    "collapsed": false
   },
   "outputs": [
    {
     "name": "stdout",
     "output_type": "stream",
     "text": [
      "+------------+--------------+--------+------------+------+\n",
      "|kode_anggota|  nama_jurusan|fakultas|tahun_ajaran|jumlah|\n",
      "+------------+--------------+--------+------------+------+\n",
      "|      94-029|      karyawan|karyawan|   2014/2015|   650|\n",
      "|    11412046|Sastra Inggris|  Sastra|   2014/2015|   678|\n",
      "|     MP15030|      karyawan|karyawan|   2014/2015|   706|\n",
      "|       46121|      karyawan|karyawan|   2015/2016|   594|\n",
      "|     MP15030|      karyawan|karyawan|   2015/2016|   780|\n",
      "|      00-007|      karyawan|karyawan|   2015/2016|   920|\n",
      "|      03-030|      karyawan|karyawan|   2016/2017|   256|\n",
      "|      86-002|      karyawan|karyawan|   2016/2017|   284|\n",
      "|      98-011|      karyawan|karyawan|   2016/2017|   324|\n",
      "+------------+--------------+--------+------------+------+\n",
      "\n"
     ]
    }
   ],
   "source": [
    "#query 1\n",
    "cf_transaksi_standard.registerTempTable(\"cf_transaksi_standard\")\n",
    "sqlContext.sql(\"\"\"WITH cte as (\n",
    "                    SELECT kode_anggota,\n",
    "                           nama_jurusan,\n",
    "                           fakultas,\n",
    "                           tahun_ajaran, \n",
    "                           COUNT(unique_id) AS jumlah,\n",
    "                           ROW_NUMBER() OVER (PARTITION BY tahun_ajaran ORDER BY COUNT(unique_id) DESC) AS r \n",
    "                    FROM cf_transaksi_standard\n",
    "                    WHERE tahun_ajaran IN ('2014/2015','2015/2016','2016/2017')\n",
    "                    GROUP BY kode_anggota,nama_jurusan,fakultas,tahun_ajaran\n",
    "                )\n",
    "                SELECT kode_anggota,nama_jurusan,fakultas,tahun_ajaran,jumlah FROM cte where r<=3 \n",
    "                ORDER BY tahun_ajaran,jumlah\"\"\").show()"
   ]
  },
  {
   "cell_type": "code",
   "execution_count": null,
   "metadata": {
    "collapsed": false
   },
   "outputs": [
    {
     "name": "stdout",
     "output_type": "stream",
     "text": [
      "+-----+-----+---------+--------------+\n",
      "|tahun|Bulan|   Jumlah|Belum_Terbayar|\n",
      "+-----+-----+---------+--------------+\n",
      "| 2015|    7|7652000.0|     1888000.0|\n",
      "| 2015|    8| 7.7108E7|      6.1124E7|\n",
      "| 2015|    9|  1.478E8|     1.23492E8|\n",
      "| 2015|   10|    1.8E7|     1620000.0|\n",
      "| 2015|   11| 1.2964E7|      964000.0|\n",
      "| 2015|   12|6172000.0|      652000.0|\n",
      "| 2016|    1|   1.14E7|     5632000.0|\n",
      "| 2016|    2| 1.7496E7|     3136000.0|\n",
      "| 2016|    3| 2.4512E7|     3984000.0|\n",
      "| 2016|    4| 2.1072E7|     3484000.0|\n",
      "| 2016|    5| 1.4676E7|     1772000.0|\n",
      "| 2016|    6|9532000.0|      428000.0|\n",
      "+-----+-----+---------+--------------+\n",
      "\n"
     ]
    }
   ],
   "source": [
    "#query 2\n",
    "cf_transaksi_standard.registerTempTable(\"cf_transaksi_standard\")\n",
    "sqlContext.sql(\"\"\"SELECT YEAR(tanggal_pinjam) AS tahun,\n",
    "                         MONTH(tanggal_pinjam) AS Bulan, \n",
    "                         SUM(denda) AS Jumlah, \n",
    "                         SUM(denda-terbayar) AS Belum_Terbayar\n",
    "                    FROM cf_transaksi_standard\n",
    "                    WHERE tahun_ajaran='2015/2016'\n",
    "                    GROUP BY YEAR(tanggal_pinjam),MONTH(tanggal_pinjam)\n",
    "                    ORDER BY YEAR(tanggal_pinjam),MONTH(tanggal_pinjam)\"\"\").show()"
   ]
  },
  {
   "cell_type": "code",
   "execution_count": null,
   "metadata": {
    "collapsed": false
   },
   "outputs": [
    {
     "name": "stdout",
     "output_type": "stream",
     "text": [
      "+-----+-----+--------------+--------+\n",
      "|bulan|tahun|Total_Sekarang|Kenaikan|\n",
      "+-----+-----+--------------+--------+\n",
      "|    1| 2014|        311406|    null|\n",
      "|    1| 2015|        318600|    7194|\n",
      "|    1| 2016|        325296|    6696|\n",
      "|    2| 2014|        311776|    null|\n",
      "|    2| 2015|        318994|    7218|\n",
      "|    2| 2016|        325734|    6740|\n",
      "|    3| 2014|        312710|    null|\n",
      "|    3| 2015|        319704|    6994|\n",
      "|    3| 2016|        326080|    6376|\n",
      "|    4| 2014|        313606|    null|\n",
      "|    4| 2015|        320444|    6838|\n",
      "|    4| 2016|        327258|    6814|\n",
      "|    5| 2014|        313958|    null|\n",
      "|    5| 2015|        321010|    7052|\n",
      "|    5| 2016|        327720|    6710|\n",
      "|    6| 2014|        314180|    null|\n",
      "|    6| 2015|        321390|    7210|\n",
      "|    6| 2016|        328328|    6938|\n",
      "|    7| 2014|        314674|    null|\n",
      "|    7| 2015|        321834|    7160|\n",
      "+-----+-----+--------------+--------+\n",
      "only showing top 20 rows\n",
      "\n"
     ]
    }
   ],
   "source": [
    "#query 3\n",
    "cf_buku.registerTempTable('cf_buku')\n",
    "sqlContext.sql(\"\"\"WITH cte AS (\n",
    "                    SELECT Jumlah_Sekarang,bulan,tahun,\n",
    "                    SUM(Jumlah_Sekarang) OVER (ORDER BY tahun,bulan) AS Total_Sekarang \n",
    "                    FROM (\n",
    "                        SELECT COUNT(unique_id) AS Jumlah_Sekarang,\n",
    "                        MONTH(tanggal_datang) AS bulan, YEAR(tanggal_datang) AS tahun\n",
    "                        FROM cf_buku\n",
    "                        WHERE YEAR(tanggal_datang)!=1\n",
    "                        GROUP BY MONTH(tanggal_datang),YEAR(tanggal_datang)\n",
    "                    ) AS total_per_bulan_tahun\n",
    "                    GROUP BY bulan,tahun,Jumlah_Sekarang\n",
    "                )\n",
    "                SELECT bulan, tahun, Total_Sekarang,\n",
    "                Total_Sekarang - LAG(Total_Sekarang,1) OVER (PARTITION BY bulan ORDER BY tahun) AS Kenaikan\n",
    "                FROM cte WHERE tahun BETWEEN 2014 AND 2016\n",
    "                GROUP BY Total_Sekarang,bulan,tahun\n",
    "                ORDER BY bulan,tahun\"\"\").show()"
   ]
  },
  {
   "cell_type": "code",
   "execution_count": null,
   "metadata": {
    "collapsed": false
   },
   "outputs": [],
   "source": [
    "#query 4\n",
    "cf_transaksi_jurusan_kategori.registerTempTable('cf_transaksi_jurusan_kategori')\n",
    "sqlContext.sql(\"\"\"SELECT judul,\n",
    "                         nama_koleksi,\n",
    "                         status_sekarang,\n",
    "                         COUNT(unique_id) AS jumlah\n",
    "                    FROM cf_transaksi_jurusan_kategori\n",
    "                    WHERE nama_jurusan='Teknik Arsitektur'\n",
    "                    AND tahun_ajaran BETWEEN '2013/2014' AND '2015/2016'\n",
    "                    AND kelompok_kategori IN ('Geologi','Tata Kota dan Pertamanan')\n",
    "                    GROUP BY judul,status_sekarang,nama_koleksi\n",
    "                    ORDER BY COUNT(unique_id) DESC \n",
    "                    LIMIT 5\"\"\").show()"
   ]
  },
  {
   "cell_type": "code",
   "execution_count": null,
   "metadata": {
    "collapsed": false
   },
   "outputs": [],
   "source": [
    "#query 5 \n",
    "cf_transaksi_jurusan_kategori.registerTempTable('cf_transaksi_jurusan_kategori')\n",
    "sqlContext.sql(\"\"\"SELECT tahun_ajaran,\n",
    "                         semester,\n",
    "                         COUNT(unique_id) AS Jumlah,\n",
    "                         COUNT(unique_id) - FLOOR(AVG(COUNT(unique_id)) \n",
    "                         OVER (PARTITION BY tahun_ajaran ORDER BY tahun_ajaran)) \n",
    "                    AS Selisih_dengan_Rata_rata_tahunan\n",
    "                    FROM cf_transaksi_jurusan_kategori\n",
    "                    WHERE nama_jurusan='Teknik Industri' AND tahun_ajaran IN ('2013/2014','2014/2015','2015/2016')\n",
    "                    GROUP BY tahun_ajaran,semester\n",
    "                    ORDER BY tahun_ajaran,semester\"\"\").show()"
   ]
  },
  {
   "cell_type": "code",
   "execution_count": null,
   "metadata": {
    "collapsed": false
   },
   "outputs": [],
   "source": [
    "#query 6 => failed\n",
    "mv_transaksi_kondisi_koleksi.registerTempTable('mv_transaksi_kondisi_koleksi')\n",
    "sqlContext.sql(\"\"\"SELECT kelompok_kategori, \n",
    "                         judul, \n",
    "                         kode_judul, \n",
    "                         kode_buku, \n",
    "                         COUNT(unique_id) AS Jumlah\n",
    "                    FROM mv_transaksi_kondisi_koleksi\n",
    "                    WHERE nama_koleksi IN ('Referensi','Laporan Kerja Praktek') \n",
    "                    AND tahun_ajaran IN ('2014/2015','2015/2016')\n",
    "                    AND status_sekarang='hilang'\n",
    "                    GROUP BY kelompok_kategori,judul,kode_judul,kode_buku\n",
    "                    ORDER BY Jumlah DESC \"\"\").show()"
   ]
  },
  {
   "cell_type": "code",
   "execution_count": null,
   "metadata": {
    "collapsed": false
   },
   "outputs": [],
   "source": [
    "#query 7\n",
    "#date_from=datetime.to_date(lit('2013-01-01')).cast(TimestampType())\n",
    "\"\"\"cf_usulan.select('penerbit','count(unique_id)').\\\n",
    "                    filter('cf_usulan.tgl_usulan>=\"2013-01-01\"').\\\n",
    "                    filter(cf_usulan.penerbit!='unknown').\\\n",
    "                    filter(cf_usulan.status=='Buku/AV Sedang Diolah').\\\n",
    "                    groupBy(lambda row: row.penerbit).\\\n",
    "                    reduceByKey(add).\\\n",
    "                    sort(desc('count(unique_id)')).\\\n",
    "                    limit(10).\\\n",
    "                    show()\"\"\"\n",
    "\n",
    "cf_usulan.registerTempTable(\"cf_usulan\")\n",
    "sqlContext.sql(\"\"\"SELECT penerbit,\n",
    "                         COUNT(unique_id) AS Jumlah\n",
    "                    FROM cf_usulan \n",
    "                    WHERE tgl_usulan>'2013-01-01' AND \n",
    "                    status='Buku/AV Sedang Diolah' AND \n",
    "                    penerbit!='unknown' \n",
    "                    GROUP BY penerbit \n",
    "                    ORDER BY Jumlah DESC\n",
    "                    LIMIT 10\"\"\").show()#.explain()"
   ]
  }
 ],
 "metadata": {
  "anaconda-cloud": {},
  "kernelspec": {
   "display_name": "Python [Root]",
   "language": "python",
   "name": "Python [Root]"
  },
  "language_info": {
   "codemirror_mode": {
    "name": "ipython",
    "version": 3
   },
   "file_extension": ".py",
   "mimetype": "text/x-python",
   "name": "python",
   "nbconvert_exporter": "python",
   "pygments_lexer": "ipython3",
   "version": "3.5.2"
  }
 },
 "nbformat": 4,
 "nbformat_minor": 0
}
