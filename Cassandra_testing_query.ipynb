{
 "cells": [
  {
   "cell_type": "code",
   "execution_count": 1,
   "metadata": {
    "collapsed": true
   },
   "outputs": [],
   "source": [
    "import pyspark_cassandra"
   ]
  },
  {
   "cell_type": "code",
   "execution_count": 2,
   "metadata": {
    "collapsed": false
   },
   "outputs": [],
   "source": [
    "cf_transaksi_standard = sqlContext.read.format('org.apache.spark.sql.cassandra').\\\n",
    "                options(table=\"cf_transaksi_standard\", keyspace=\"skripsi\").load()\n",
    "cf_buku = sqlContext.read.format('org.apache.spark.sql.cassandra').\\\n",
    "                options(table=\"cf_buku\", keyspace=\"skripsi\").load()\n",
    "cf_transaksi_jurusan_kategori = sqlContext.read.format('org.apache.spark.sql.cassandra').\\\n",
    "                options(table=\"cf_transaksi_jurusan_kategori\", keyspace=\"skripsi\").load()\n",
    "mv_transaksi_kondisi_koleksi = sqlContext.read.format('org.apache.spark.sql.cassandra').\\\n",
    "                options(table=\"mv_transaksi_kondisi_koleksi\", keyspace=\"skripsi\").load()\n",
    "cf_usulan = sqlContext.read.format('org.apache.spark.sql.cassandra').\\\n",
    "                options(table=\"cf_usulan\", keyspace=\"skripsi\").load()"
   ]
  },
  {
   "cell_type": "code",
   "execution_count": 3,
   "metadata": {
    "collapsed": false
   },
   "outputs": [
    {
     "name": "stdout",
     "output_type": "stream",
     "text": [
      "+--------------+-------------+---------------+---------+-----+--------+------------+------------+------------+--------+------------+--------+\n",
      "|tanggal_pinjam|tanggal_batas|tanggal_kembali|unique_id|denda|fakultas|id_transaksi|kode_anggota|nama_jurusan|semester|tahun_ajaran|terbayar|\n",
      "+--------------+-------------+---------------+---------+-----+--------+------------+------------+------------+--------+------------+--------+\n",
      "+--------------+-------------+---------------+---------+-----+--------+------------+------------+------------+--------+------------+--------+\n",
      "\n"
     ]
    }
   ],
   "source": [
    "cf_transaksi_standard.registerTempTable(\"cf_transaksi_standard\")\n",
    "sqlContext.sql(\"select * from cf_transaksi_standard where MONTH(tanggal_pinjam)=6 and DAY(tanggal_pinjam)=30 and semester=1 LIMIT 5\").show()"
   ]
  },
  {
   "cell_type": "code",
   "execution_count": 4,
   "metadata": {
    "collapsed": false
   },
   "outputs": [
    {
     "name": "stdout",
     "output_type": "stream",
     "text": [
      "+------------+--------------+--------+------------+------+\n",
      "|kode_anggota|  nama_jurusan|fakultas|tahun_ajaran|jumlah|\n",
      "+------------+--------------+--------+------------+------+\n",
      "|     MP15030|      karyawan|karyawan|   2014/2015|   353|\n",
      "|      94-029|      karyawan|karyawan|   2014/2015|   325|\n",
      "|    11412046|Sastra Inggris|  Sastra|   2014/2015|   339|\n",
      "|      00-007|      karyawan|karyawan|   2015/2016|   460|\n",
      "|       46121|      karyawan|karyawan|   2015/2016|   297|\n",
      "|     MP15030|      karyawan|karyawan|   2015/2016|   390|\n",
      "|      98-011|      karyawan|karyawan|   2016/2017|   162|\n",
      "|      86-002|      karyawan|karyawan|   2016/2017|   142|\n",
      "|      03-030|      karyawan|karyawan|   2016/2017|   128|\n",
      "+------------+--------------+--------+------------+------+\n",
      "\n"
     ]
    }
   ],
   "source": [
    "#query 1\n",
    "cf_transaksi_standard.registerTempTable(\"cf_transaksi_standard\")\n",
    "sqlContext.sql(\"\"\"WITH cte as (\n",
    "                    SELECT kode_anggota,\n",
    "                           nama_jurusan,\n",
    "                           fakultas,\n",
    "                           tahun_ajaran, \n",
    "                           COUNT(unique_id) AS jumlah,\n",
    "                           ROW_NUMBER() OVER (PARTITION BY tahun_ajaran ORDER BY COUNT(unique_id) DESC) AS r \n",
    "                    FROM cf_transaksi_standard\n",
    "                    WHERE tahun_ajaran IN ('2014/2015','2015/2016','2016/2017')\n",
    "                    GROUP BY kode_anggota,nama_jurusan,fakultas,tahun_ajaran\n",
    "                )\n",
    "                SELECT kode_anggota,nama_jurusan,fakultas,tahun_ajaran,jumlah FROM cte where r<=3 \n",
    "                ORDER BY tahun_ajaran,jumlah\"\"\").show()"
   ]
  },
  {
   "cell_type": "code",
   "execution_count": 5,
   "metadata": {
    "collapsed": false
   },
   "outputs": [
    {
     "name": "stdout",
     "output_type": "stream",
     "text": [
      "+-----+-----+---------+--------------+\n",
      "|tahun|Bulan|   Jumlah|Belum_Terbayar|\n",
      "+-----+-----+---------+--------------+\n",
      "| 2015|    7|3826000.0|      944000.0|\n",
      "| 2015|    8| 3.8554E7|      3.0562E7|\n",
      "| 2015|    9|   7.39E7|      6.1746E7|\n",
      "| 2015|   10|9000000.0|      810000.0|\n",
      "| 2015|   11|6482000.0|      482000.0|\n",
      "| 2015|   12|3086000.0|      326000.0|\n",
      "| 2016|    1|5700000.0|     2816000.0|\n",
      "| 2016|    2|8748000.0|     1568000.0|\n",
      "| 2016|    3| 1.2256E7|     1992000.0|\n",
      "| 2016|    4| 1.0536E7|     1742000.0|\n",
      "| 2016|    5|7338000.0|      886000.0|\n",
      "| 2016|    6|4766000.0|      214000.0|\n",
      "+-----+-----+---------+--------------+\n",
      "\n"
     ]
    }
   ],
   "source": [
    "#query 2\n",
    "cf_transaksi_standard.registerTempTable(\"cf_transaksi_standard\")\n",
    "sqlContext.sql(\"\"\"SELECT YEAR(tanggal_pinjam) AS tahun,\n",
    "                         MONTH(tanggal_pinjam) AS Bulan, \n",
    "                         SUM(denda) AS Jumlah, \n",
    "                         SUM(denda-terbayar) AS Belum_Terbayar\n",
    "                    FROM cf_transaksi_standard\n",
    "                    WHERE tahun_ajaran='2015/2016'\n",
    "                    GROUP BY tahun,bulan\n",
    "                    ORDER BY tahun,bulan\"\"\").show()"
   ]
  },
  {
   "cell_type": "code",
   "execution_count": 6,
   "metadata": {
    "collapsed": false
   },
   "outputs": [
    {
     "name": "stdout",
     "output_type": "stream",
     "text": [
      "+-----+-----+--------------+--------+\n",
      "|bulan|tahun|Total_Sekarang|Kenaikan|\n",
      "+-----+-----+--------------+--------+\n",
      "|    1| 2014|        155703|    null|\n",
      "|    1| 2015|        159300|    3597|\n",
      "|    1| 2016|        162648|    3348|\n",
      "|    2| 2014|        155888|    null|\n",
      "|    2| 2015|        159497|    3609|\n",
      "|    2| 2016|        162867|    3370|\n",
      "|    3| 2014|        156355|    null|\n",
      "|    3| 2015|        159852|    3497|\n",
      "|    3| 2016|        163040|    3188|\n",
      "|    4| 2014|        156803|    null|\n",
      "|    4| 2015|        160222|    3419|\n",
      "|    4| 2016|        163629|    3407|\n",
      "|    5| 2014|        156979|    null|\n",
      "|    5| 2015|        160505|    3526|\n",
      "|    5| 2016|        163860|    3355|\n",
      "|    6| 2014|        157090|    null|\n",
      "|    6| 2015|        160695|    3605|\n",
      "|    6| 2016|        164164|    3469|\n",
      "|    7| 2014|        157337|    null|\n",
      "|    7| 2015|        160917|    3580|\n",
      "+-----+-----+--------------+--------+\n",
      "only showing top 20 rows\n",
      "\n"
     ]
    }
   ],
   "source": [
    "#query 3\n",
    "cf_buku.registerTempTable('cf_buku')\n",
    "sqlContext.sql(\"\"\"WITH cte AS (\n",
    "                    SELECT Jumlah_Sekarang,bulan,tahun,\n",
    "                    SUM(Jumlah_Sekarang) OVER (ORDER BY tahun,bulan) AS Total_Sekarang \n",
    "                    FROM (\n",
    "                        SELECT COUNT(unique_id) AS Jumlah_Sekarang,\n",
    "                        MONTH(tanggal_datang) AS bulan, YEAR(tanggal_datang) AS tahun\n",
    "                        FROM cf_buku\n",
    "                        WHERE YEAR(tanggal_datang)!=1\n",
    "                        GROUP BY bulan,tahun\n",
    "                    ) AS total_per_bulan_tahun\n",
    "                    GROUP BY bulan,tahun,Jumlah_Sekarang\n",
    "                )\n",
    "                SELECT bulan, tahun, Total_Sekarang,\n",
    "                Total_Sekarang - LAG(Total_Sekarang,1) OVER (PARTITION BY bulan ORDER BY tahun) AS Kenaikan\n",
    "                FROM cte WHERE tahun BETWEEN 2014 AND 2016\n",
    "                GROUP BY Total_Sekarang,bulan,tahun\n",
    "                ORDER BY bulan,tahun\"\"\").show()"
   ]
  },
  {
   "cell_type": "code",
   "execution_count": 7,
   "metadata": {
    "collapsed": false
   },
   "outputs": [
    {
     "name": "stdout",
     "output_type": "stream",
     "text": [
      "+--------------------+------------+---------------+------+\n",
      "|               judul|nama_koleksi|status_sekarang|jumlah|\n",
      "+--------------------+------------+---------------+------+\n",
      "|Brown skin, white...|        none|           baik|    44|\n",
      "|Actionable web an...|        none|           baik|    39|\n",
      "|Untaian ekonomi m...|        none|           baik|    34|\n",
      "|Pelajaran cinta d...|        none|           baik|    33|\n",
      "|Tata ruang air tanah|        none|           baik|    32|\n",
      "+--------------------+------------+---------------+------+\n",
      "\n"
     ]
    }
   ],
   "source": [
    "#query 4\n",
    "cf_transaksi_jurusan_kategori.registerTempTable('cf_transaksi_jurusan_kategori')\n",
    "sqlContext.sql(\"\"\"SELECT judul,\n",
    "                         nama_koleksi,\n",
    "                         status_sekarang,\n",
    "                         COUNT(unique_id) AS jumlah\n",
    "                    FROM cf_transaksi_jurusan_kategori\n",
    "                    WHERE nama_jurusan='Teknik Arsitektur'\n",
    "                    AND tahun_ajaran BETWEEN '2013/2014' AND '2015/2016'\n",
    "                    AND kelompok_kategori IN ('Geologi','Tata Kota dan Pertamanan')\n",
    "                    GROUP BY judul,status_sekarang,nama_koleksi\n",
    "                    ORDER BY COUNT(unique_id) DESC \n",
    "                    LIMIT 5\"\"\").show()"
   ]
  },
  {
   "cell_type": "code",
   "execution_count": 8,
   "metadata": {
    "collapsed": false
   },
   "outputs": [
    {
     "name": "stdout",
     "output_type": "stream",
     "text": [
      "+------------+--------+------+--------------------------------+\n",
      "|tahun_ajaran|semester|Jumlah|Selisih_dengan_Rata_rata_tahunan|\n",
      "+------------+--------+------+--------------------------------+\n",
      "|   2013/2014|       1|  1612|                              31|\n",
      "|   2013/2014|       2|  1551|                             -30|\n",
      "|   2014/2015|       1|   855|                             -68|\n",
      "|   2014/2015|       2|   992|                              69|\n",
      "|   2015/2016|       1|   702|                             -97|\n",
      "|   2015/2016|       2|   897|                              98|\n",
      "+------------+--------+------+--------------------------------+\n",
      "\n"
     ]
    }
   ],
   "source": [
    "#query 5 \n",
    "cf_transaksi_jurusan_kategori.registerTempTable('cf_transaksi_jurusan_kategori')\n",
    "sqlContext.sql(\"\"\"SELECT tahun_ajaran,\n",
    "                         semester,\n",
    "                         COUNT(unique_id) AS Jumlah,\n",
    "                         COUNT(unique_id) - FLOOR(AVG(COUNT(unique_id)) \n",
    "                         OVER (PARTITION BY tahun_ajaran ORDER BY tahun_ajaran)) \n",
    "                    AS Selisih_dengan_Rata_rata_tahunan\n",
    "                    FROM cf_transaksi_jurusan_kategori\n",
    "                    WHERE nama_jurusan='Teknik Industri' AND tahun_ajaran IN ('2013/2014','2014/2015','2015/2016')\n",
    "                    GROUP BY tahun_ajaran,semester\n",
    "                    ORDER BY tahun_ajaran,semester\"\"\").show()"
   ]
  },
  {
   "cell_type": "code",
   "execution_count": 9,
   "metadata": {
    "collapsed": false
   },
   "outputs": [
    {
     "name": "stdout",
     "output_type": "stream",
     "text": [
      "+--------------------+--------------------+----------+---------+------+\n",
      "|   kelompok_kategori|               judul|kode_judul|kode_buku|Jumlah|\n",
      "+--------------------+--------------------+----------+---------+------+\n",
      "|            Bangunan|Research methodology|    130182| 01872/13|     4|\n",
      "|           Manajemen|Operating small s...|   2209236| 02925/07|     2|\n",
      "|      Bahasa Inggris|Kamus Inggris Ind...|     15467| 00632/93|     2|\n",
      "|            Bangunan|Morphological and...|   2186491| 02428/05|     2|\n",
      "|     Teknologi Kimia|Pengetahuan keilm...|   2213244| 01940/14|     2|\n",
      "|Pembuatan Produk-...|Management inform...|     43834| 04146/94|     2|\n",
      "+--------------------+--------------------+----------+---------+------+\n",
      "\n"
     ]
    }
   ],
   "source": [
    "#query 6 => failed\n",
    "mv_transaksi_kondisi_koleksi.registerTempTable('mv_transaksi_kondisi_koleksi')\n",
    "sqlContext.sql(\"\"\"SELECT kelompok_kategori, \n",
    "                         judul, \n",
    "                         kode_judul, \n",
    "                         kode_buku, \n",
    "                         COUNT(unique_id) AS Jumlah\n",
    "                    FROM mv_transaksi_kondisi_koleksi\n",
    "                    WHERE nama_koleksi IN ('Referensi','Laporan Kerja Praktek') \n",
    "                    AND tahun_ajaran IN ('2014/2015','2015/2016')\n",
    "                    AND status_sekarang='hilang'\n",
    "                    GROUP BY kelompok_kategori,judul,kode_judul,kode_buku\n",
    "                    ORDER BY Jumlah DESC \"\"\").show()"
   ]
  },
  {
   "cell_type": "code",
   "execution_count": 10,
   "metadata": {
    "collapsed": false
   },
   "outputs": [
    {
     "name": "stdout",
     "output_type": "stream",
     "text": [
      "+--------------------+------+\n",
      "|            penerbit|Jumlah|\n",
      "+--------------------+------+\n",
      "| Woodhead Publishing|    22|\n",
      "|Beijing Language ...|    12|\n",
      "|        ALA Editions|    10|\n",
      "|               Wiley|     8|\n",
      "|                  FP|     6|\n",
      "|             Pearson|     5|\n",
      "|                Sage|     5|\n",
      "|    ALA Neal-Schuman|     5|\n",
      "|     Fairchild Books|     5|\n",
      "|       PPM Manajemen|     4|\n",
      "+--------------------+------+\n",
      "\n"
     ]
    }
   ],
   "source": [
    "#query 7\n",
    "#date_from=datetime.to_date(lit('2013-01-01')).cast(TimestampType())\n",
    "\"\"\"cf_usulan.select('penerbit','count(unique_id)').\\\n",
    "                    filter('cf_usulan.tgl_usulan>=\"2013-01-01\"').\\\n",
    "                    filter(cf_usulan.penerbit!='unknown').\\\n",
    "                    filter(cf_usulan.status=='Buku/AV Sedang Diolah').\\\n",
    "                    groupBy(lambda row: row.penerbit).\\\n",
    "                    reduceByKey(add).\\\n",
    "                    sort(desc('count(unique_id)')).\\\n",
    "                    limit(10).\\\n",
    "                    show()\"\"\"\n",
    "\n",
    "cf_usulan.registerTempTable(\"cf_usulan\")\n",
    "sqlContext.sql(\"\"\"SELECT penerbit,\n",
    "                         COUNT(unique_id) AS Jumlah\n",
    "                    FROM cf_usulan \n",
    "                    WHERE tgl_usulan>'2013-01-01' AND \n",
    "                    status='Buku/AV Sedang Diolah' AND \n",
    "                    penerbit!='unknown' \n",
    "                    GROUP BY penerbit \n",
    "                    ORDER BY Jumlah DESC\n",
    "                    LIMIT 10\"\"\").show()#.explain()"
   ]
  }
 ],
 "metadata": {
  "anaconda-cloud": {},
  "kernelspec": {
   "display_name": "Python [Root]",
   "language": "python",
   "name": "Python [Root]"
  },
  "language_info": {
   "codemirror_mode": {
    "name": "ipython",
    "version": 3
   },
   "file_extension": ".py",
   "mimetype": "text/x-python",
   "name": "python",
   "nbconvert_exporter": "python",
   "pygments_lexer": "ipython3",
   "version": "3.5.2"
  }
 },
 "nbformat": 4,
 "nbformat_minor": 0
}
