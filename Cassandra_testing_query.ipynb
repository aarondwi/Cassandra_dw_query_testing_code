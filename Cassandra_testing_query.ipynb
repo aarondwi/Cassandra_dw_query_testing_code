{
 "cells": [
  {
   "cell_type": "code",
   "execution_count": 1,
   "metadata": {
    "collapsed": true
   },
   "outputs": [],
   "source": [
    "import pyspark_cassandra\n",
    "import time\n",
    "import gc"
   ]
  },
  {
   "cell_type": "code",
   "execution_count": 2,
   "metadata": {
    "collapsed": false
   },
   "outputs": [],
   "source": [
    "selected_query=[\n",
    "    \"\"\" WITH cte as (\n",
    "                    SELECT kode_anggota,\n",
    "                           nama_jurusan,\n",
    "                           fakultas,\n",
    "                           tahun_ajaran, \n",
    "                           COUNT(unique_id) AS jumlah,\n",
    "                           ROW_NUMBER() OVER (PARTITION BY tahun_ajaran ORDER BY COUNT(unique_id) DESC) AS r \n",
    "                    FROM cf_transaksi_standard\n",
    "                    WHERE tahun_ajaran IN ('2014/2015','2015/2016','2016/2017')\n",
    "                    GROUP BY kode_anggota,nama_jurusan,fakultas,tahun_ajaran\n",
    "                )\n",
    "                SELECT kode_anggota,nama_jurusan,fakultas,tahun_ajaran,jumlah FROM cte \n",
    "                WHERE r<=3 ORDER BY tahun_ajaran,jumlah DESC\"\"\",\\\n",
    "    \"\"\" SELECT tahun_ajaran, YEAR(tanggal_pinjam), bulan, \n",
    "                         SUM(denda) AS Jumlah,\n",
    "                         SUM(denda-terbayar) AS Belum_Terbayar\n",
    "                    FROM cf_transaksi_standard\n",
    "                    WHERE tahun_ajaran='2015/2016'\n",
    "                    GROUP BY tahun_ajaran,YEAR(tanggal_pinjam),bulan\n",
    "                    ORDER BY YEAR(tanggal_pinjam),bulan\"\"\",\\\n",
    "    \"\"\" WITH cte AS (\n",
    "                    SELECT Jumlah_Sekarang, bulan, tahun,\n",
    "                    SUM(Jumlah_Sekarang) OVER (ORDER BY tahun,bulan) AS Total_Sekarang \n",
    "                    FROM (\n",
    "                        SELECT tahun, bulan, COUNT(unique_id) AS Jumlah_Sekarang\n",
    "                        FROM cf_buku\n",
    "                        WHERE tahun!=1\n",
    "                        GROUP BY bulan, tahun\n",
    "                    ) AS total_per_bulan_tahun\n",
    "                    GROUP BY bulan, tahun, Jumlah_Sekarang\n",
    "                )\n",
    "                SELECT tahun, bulan, Total_Sekarang,\n",
    "                Total_Sekarang - LAG(Total_Sekarang,1) OVER (PARTITION BY bulan ORDER BY tahun) AS Kenaikan\n",
    "                FROM cte WHERE tahun BETWEEN 2014 AND 2016\n",
    "                GROUP BY Total_Sekarang, bulan, tahun\n",
    "                ORDER BY bulan, tahun\"\"\",\\\n",
    "    \"\"\" SELECT judul,\n",
    "                nama_koleksi,\n",
    "                status_sekarang,\n",
    "                COUNT(unique_id) AS jumlah\n",
    "                FROM cf_transaksi_jurusan_kategori\n",
    "                WHERE nama_jurusan='Teknik Arsitektur'\n",
    "                AND tahun_ajaran IN ('2013/2014','2014/2015','2015/2016')\n",
    "                AND kelompok_kategori IN ('Geologi','Tata Kota dan Pertamanan')\n",
    "                GROUP BY judul,status_sekarang,nama_koleksi\n",
    "                ORDER BY COUNT(unique_id) DESC \n",
    "                LIMIT 5\"\"\",\\\n",
    "    \"\"\" SELECT tahun_ajaran,\n",
    "                semester,\n",
    "                COUNT(unique_id) AS Jumlah,\n",
    "                COUNT(unique_id) - FLOOR(AVG(COUNT(unique_id)) \n",
    "                OVER (PARTITION BY tahun_ajaran ORDER BY tahun_ajaran)) \n",
    "                AS Selisih_dengan_Rata_rata_tahunan\n",
    "                FROM cf_transaksi_jurusan_kategori\n",
    "                WHERE nama_jurusan='Teknik Industri' \n",
    "                AND tahun_ajaran IN ('2013/2014','2014/2015','2015/2016')\n",
    "                GROUP BY tahun_ajaran,semester\n",
    "                ORDER BY tahun_ajaran,semester\"\"\",\\\n",
    "    \"\"\" SELECT kelompok_kategori, \n",
    "                judul, \n",
    "                kode_judul, \n",
    "                kode_buku, \n",
    "                COUNT(unique_id) AS Jumlah\n",
    "                FROM mv_transaksi_kondisi_koleksi\n",
    "                WHERE nama_koleksi IN ('Referensi','Laporan Kerja Praktek') \n",
    "                AND tahun_ajaran IN ('2014/2015','2015/2016')\n",
    "                AND status_sekarang='hilang'\n",
    "                GROUP BY kelompok_kategori,judul,kode_judul,kode_buku\n",
    "                ORDER BY Jumlah DESC \"\"\",\\\n",
    "    \"\"\" SELECT penerbit,\n",
    "                COUNT(unique_id) AS Jumlah\n",
    "                FROM cf_usulan \n",
    "                WHERE tgl_usulan>'2013-01-01' AND \n",
    "                status='Buku/AV Sedang Diolah' AND \n",
    "                penerbit!='unknown' \n",
    "                GROUP BY penerbit \n",
    "                ORDER BY Jumlah DESC\n",
    "                LIMIT 10\"\"\"\n",
    "]"
   ]
  },
  {
   "cell_type": "code",
   "execution_count": null,
   "metadata": {
    "collapsed": true
   },
   "outputs": [],
   "source": [
    "def run_query_num(sqlContext,query_num):\n",
    "    global selected_query\n",
    "    if query_num == 1 or query_num == 2:\n",
    "        df = sqlContext.read.format('org.apache.spark.sql.cassandra').\\\n",
    "                    options(table=\"cf_transaksi_standard\", keyspace=\"skripsi\").load()\n",
    "        df.registerTempTable(\"cf_transaksi_standard\")\n",
    "    elif query_num==3:\n",
    "        df = sqlContext.read.format('org.apache.spark.sql.cassandra').\\\n",
    "                    options(table=\"cf_buku\", keyspace=\"skripsi\").load()\n",
    "        df.registerTempTable('cf_buku')\n",
    "    elif query_num == 4 or query_num == 5:\n",
    "        df = sqlContext.read.format('org.apache.spark.sql.cassandra').\\\n",
    "                    options(table=\"cf_transaksi_jurusan_kategori\", keyspace=\"skripsi\").load()\n",
    "        df.registerTempTable('cf_transaksi_jurusan_kategori')\n",
    "    elif query_num==6:\n",
    "        df = sqlContext.read.format('org.apache.spark.sql.cassandra').\\\n",
    "                    options(table=\"mv_transaksi_kondisi_koleksi\", keyspace=\"skripsi\").load()\n",
    "        df.registerTempTable('mv_transaksi_kondisi_koleksi')\n",
    "    elif query_num == 7:\n",
    "        df = sqlContext.read.format('org.apache.spark.sql.cassandra').\\\n",
    "                    options(table=\"cf_usulan\", keyspace=\"skripsi\").load()\n",
    "        df.registerTempTable(\"cf_usulan\")\n",
    "    else:\n",
    "        print(\"no such query exist\")\n",
    "        exit()\n",
    "\n",
    "    sqlContext.sql(selected_query[query_num-1]).show()"
   ]
  },
  {
   "cell_type": "code",
   "execution_count": null,
   "metadata": {
    "collapsed": true
   },
   "outputs": [],
   "source": [
    "def run_query(sqlContext,query_num):\n",
    "    start=time.time()\n",
    "    run_query_num(sqlContext,query_num)\n",
    "    print(\"It takes {} seconds\".format(time.time()-start))"
   ]
  },
  {
   "cell_type": "code",
   "execution_count": null,
   "metadata": {
    "collapsed": true
   },
   "outputs": [],
   "source": []
  }
 ],
 "metadata": {
  "anaconda-cloud": {},
  "kernelspec": {
   "display_name": "Python [Root]",
   "language": "python",
   "name": "Python [Root]"
  },
  "language_info": {
   "codemirror_mode": {
    "name": "ipython",
    "version": 3
   },
   "file_extension": ".py",
   "mimetype": "text/x-python",
   "name": "python",
   "nbconvert_exporter": "python",
   "pygments_lexer": "ipython3",
   "version": "3.5.2"
  }
 },
 "nbformat": 4,
 "nbformat_minor": 0
}
